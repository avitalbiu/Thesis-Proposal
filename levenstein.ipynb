{
 "cells": [
  {
   "cell_type": "code",
   "execution_count": 1,
   "metadata": {},
   "outputs": [],
   "source": [
    "from tqdm import tqdm\n",
    "import time\n",
    "import os\n",
    "import csv\n",
    "import sqlite3\n",
    "import numpy as np\n",
    "import matplotlib.pyplot  as plt\n",
    "import random\n",
    "from collections import defaultdict\n",
    "import pandas as pd\n",
    "from igraph import *\n",
    "import matplotlib.pyplot as plt\n",
    "import enchant\n",
    "import numpy as np\n",
    "import networkx as nx"
   ]
  },
  {
   "cell_type": "code",
   "execution_count": 3,
   "metadata": {},
   "outputs": [],
   "source": [
    "data = pd.read_pickle(\"/home/dsi/avitalab/combinedDB/seqCountCombinedDBLen.pkl\")"
   ]
  },
  {
   "cell_type": "code",
   "execution_count": 4,
   "metadata": {},
   "outputs": [],
   "source": [
    "rand50 = data.sample(n = 50)[\"amino_acid\"].reset_index(drop=True)\n",
    "top50 = data.head(50)[\"amino_acid\"].reset_index(drop=True)"
   ]
  },
  {
   "cell_type": "code",
   "execution_count": 5,
   "metadata": {},
   "outputs": [
    {
     "name": "stderr",
     "output_type": "stream",
     "text": [
      "100%|██████████| 50/50 [00:00<00:00, 139.35it/s]\n"
     ]
    }
   ],
   "source": [
    "elistRand = []\n",
    "for i in tqdm(range(50)):\n",
    "          for j in range(50):\n",
    "                    if 1 <= (enchant.utils.levenshtein(rand50[i], rand50[j])) <= 1:\n",
    "                              elistRand.append((i,j))"
   ]
  },
  {
   "cell_type": "code",
   "execution_count": 6,
   "metadata": {},
   "outputs": [
    {
     "name": "stderr",
     "output_type": "stream",
     "text": [
      "100%|██████████| 50/50 [00:00<00:00, 214.99it/s]\n"
     ]
    }
   ],
   "source": [
    "elistTop = []\n",
    "for i in tqdm(range(50)):\n",
    "          for j in range(50):\n",
    "                    if 1 <= (enchant.utils.levenshtein(top50[i], top50[j])) <= 1:\n",
    "                              elistTop.append((i,j))"
   ]
  },
  {
   "cell_type": "code",
   "execution_count": 7,
   "metadata": {},
   "outputs": [],
   "source": [
    "lst = list(range(0,50))"
   ]
  },
  {
   "cell_type": "code",
   "execution_count": 11,
   "metadata": {},
   "outputs": [
    {
     "data": {
      "image/png": "[encoded data removed]",
      "text/plain": [
       "<Figure size 432x288 with 1 Axes>"
      ]
     },
     "metadata": {},
     "output_type": "display_data"
    }
   ],
   "source": [
    "options = {\n",
    "    'node_color': 'black',\n",
    "    'node_size': 30,\n",
    "    'width': 1,\n",
    "}\n",
    "G1 = nx.Graph()\n",
    "G1.add_nodes_from(lst)\n",
    "G1.add_edges_from(elistTop)\n",
    "nx.draw(G1, **options) "
   ]
  },
  {
   "cell_type": "code",
   "execution_count": 9,
   "metadata": {},
   "outputs": [
    {
     "data": {
      "image/png": "[encoded data removed]",
      "text/plain": [
       "<Figure size 432x288 with 1 Axes>"
      ]
     },
     "metadata": {},
     "output_type": "display_data"
    }
   ],
   "source": [
    "options = {\n",
    "    'node_color': 'black',\n",
    "    'node_size': 30,\n",
    "    'width': 1,\n",
    "}\n",
    "G1 = nx.Graph()\n",
    "G1.add_nodes_from(lst)\n",
    "G1.add_edges_from(elistRand)\n",
    "nx.draw(G1, **options) "
   ]
  }
 ],
 "metadata": {
  "kernelspec": {
   "display_name": "Python 3.9.7 ('base')",
   "language": "python",
   "name": "python3"
  },
  "language_info": {
   "codemirror_mode": {
    "name": "ipython",
    "version": 3
   },
   "file_extension": ".py",
   "mimetype": "text/x-python",
   "name": "python",
   "nbconvert_exporter": "python",
   "pygments_lexer": "ipython3",
   "version": "3.9.7"
  },
  "orig_nbformat": 4,
  "vscode": {
   "interpreter": {
    "hash": "660823ec88390e1986ae61f76b187758410cd70d79c22e414c434e606e3ff7d1"
   }
  }
 },
 "nbformat": 4,
 "nbformat_minor": 2
}
