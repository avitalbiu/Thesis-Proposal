{
 "cells": [
  {
   "cell_type": "code",
   "execution_count": 1,
   "metadata": {},
   "outputs": [],
   "source": [
    "import numpy as np\n",
    "import pandas as pd\n",
    "import torch\n",
    "from tqdm import tqdm"
   ]
  },
  {
   "cell_type": "code",
   "execution_count": 2,
   "metadata": {},
   "outputs": [],
   "source": [
    "seqNameDF = pd.read_csv(\"aaSeqCdr3Combined\")"
   ]
  },
  {
   "cell_type": "code",
   "execution_count": 3,
   "metadata": {},
   "outputs": [],
   "source": [
    "samplenames = seqNameDF.sampleName.unique()"
   ]
  },
  {
   "cell_type": "code",
   "execution_count": 4,
   "metadata": {},
   "outputs": [],
   "source": [
    "cdr3seqs = seqNameDF.amino_acid.unique()"
   ]
  },
  {
   "cell_type": "code",
   "execution_count": 5,
   "metadata": {},
   "outputs": [],
   "source": [
    "samplenames_dict = {samplenames[i]: i for i in range(len(samplenames))}"
   ]
  },
  {
   "cell_type": "code",
   "execution_count": 6,
   "metadata": {},
   "outputs": [],
   "source": [
    "cdr3_dict = {cdr3seqs[i]: i for i in range(len(cdr3seqs))}"
   ]
  },
  {
   "cell_type": "code",
   "execution_count": null,
   "metadata": {},
   "outputs": [],
   "source": [
    "#print(len(seqNameDF))"
   ]
  },
  {
   "cell_type": "code",
   "execution_count": 8,
   "metadata": {},
   "outputs": [],
   "source": [
    "rowidxs = np.zeros(len(seqNameDF))\n",
    "colidxs = np.zeros(len(seqNameDF))"
   ]
  },
  {
   "cell_type": "code",
   "execution_count": 9,
   "metadata": {},
   "outputs": [],
   "source": [
    "# get dict number from cdr3 string:\n",
    "def cdr3_tonum(cdr3):\n",
    "    numcdr3 = cdr3_dict[cdr3]\n",
    "    return numcdr3"
   ]
  },
  {
   "cell_type": "code",
   "execution_count": 10,
   "metadata": {},
   "outputs": [],
   "source": [
    "# get dict number from sample string:\n",
    "def sample_tonum(sample):\n",
    "    numsample = samplenames_dict[sample]\n",
    "    return numsample"
   ]
  },
  {
   "cell_type": "code",
   "execution_count": 11,
   "metadata": {},
   "outputs": [],
   "source": [
    "rowidxs = np.vectorize(cdr3_tonum)(seqNameDF[\"amino_acid\"])"
   ]
  },
  {
   "cell_type": "code",
   "execution_count": 12,
   "metadata": {},
   "outputs": [],
   "source": [
    "colidxs = np.vectorize(sample_tonum)(seqNameDF[\"sampleName\"])"
   ]
  },
  {
   "cell_type": "code",
   "execution_count": 13,
   "metadata": {},
   "outputs": [],
   "source": [
    "#v = np.ones(len(seqNameDF))"
   ]
  },
  {
   "cell_type": "code",
   "execution_count": 14,
   "metadata": {},
   "outputs": [],
   "source": [
    "ii = np.concatenate((rowidxs, colidxs), axis=0)"
   ]
  },
  {
   "cell_type": "code",
   "execution_count": 15,
   "metadata": {},
   "outputs": [],
   "source": [
    "ii = ii.reshape((2,len(seqNameDF)))\n",
    "del seqNameDF"
   ]
  },
  {
   "cell_type": "code",
   "execution_count": 16,
   "metadata": {},
   "outputs": [],
   "source": [
    "sharing = list()"
   ]
  },
  {
   "cell_type": "code",
   "execution_count": null,
   "metadata": {},
   "outputs": [],
   "source": [
    "for nusmpl in tqdm(range(2,len(samplenames))):\n",
    "    # choose a random subset of nosmpl samples:\n",
    "    #nusmpl = 4\n",
    "    sample_idxs = np.random.choice(len(samplenames), nusmpl, replace=False)\n",
    "    #print(sample_idxs)\n",
    "    #reduce ii to include only these samples:\n",
    "    aa = ii[1,:]\n",
    "    bb = np.in1d(aa, sample_idxs).nonzero()[0]\n",
    "    ii_reduced = ii[:,bb]\n",
    "    del aa, bb\n",
    "    #sort ii_reduced:\n",
    "    ii_reduced = ii_reduced[:,np.argsort(ii_reduced[0,:])].T\n",
    "    ii_reduced = ii_reduced[:,0]\n",
    "    ii_sorted_df = pd.DataFrame(ii_reduced, columns=[\"zero\"])\n",
    "    del ii_reduced\n",
    "    df2 = ii_sorted_df.groupby('zero').size()#.reset_index(name='count')\n",
    "    aa = df2>1\n",
    "    del df2\n",
    "    df2_count = aa.sum()\n",
    "    print(df2_count)\n",
    "    sharing.append(df2_count)"
   ]
  },
  {
   "cell_type": "code",
   "execution_count": 18,
   "metadata": {},
   "outputs": [],
   "source": [
    "#s = torch.sparse_coo_tensor(ii , v, device=torch.device('cuda:0'))"
   ]
  },
  {
   "cell_type": "code",
   "execution_count": 19,
   "metadata": {},
   "outputs": [],
   "source": [
    "# import pickle\n",
    "\n",
    "# with open('savedenvironment.pickle', 'wb') as handle:\n",
    "#     pickle.dump([cdr3_dict, samplenames_dict, s], handle, protocol=pickle.HIGHEST_PROTOCOL)"
   ]
  }
 ],
 "metadata": {
  "kernelspec": {
   "display_name": "Python 3.9.12 ('base')",
   "language": "python",
   "name": "python3"
  },
  "language_info": {
   "codemirror_mode": {
    "name": "ipython",
    "version": 3
   },
   "file_extension": ".py",
   "mimetype": "text/x-python",
   "name": "python",
   "nbconvert_exporter": "python",
   "pygments_lexer": "ipython3",
   "version": "3.9.12"
  },
  "orig_nbformat": 4,
  "vscode": {
   "interpreter": {
    "hash": "ad2bdc8ecc057115af97d19610ffacc2b4e99fae6737bb82f5d7fb13d2f2c186"
   }
  }
 },
 "nbformat": 4,
 "nbformat_minor": 2
}
