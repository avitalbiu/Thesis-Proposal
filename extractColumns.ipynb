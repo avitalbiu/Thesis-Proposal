{
 "cells": [
  {
   "cell_type": "code",
   "execution_count": 1,
   "metadata": {},
   "outputs": [],
   "source": [
    "import csv\n",
    "import os\n",
    "import sqlite3\n"
   ]
  },
  {
   "cell_type": "code",
   "execution_count": 2,
   "metadata": {},
   "outputs": [],
   "source": [
    "def create_connection(db_file):\n",
    "    \"\"\" create a database connection to the SQLite database\n",
    "        specified by the db_file\n",
    "    :param db_file: database file\n",
    "    :return: Connection object or None\n",
    "    \"\"\"\n",
    "    conn = None\n",
    "    try:\n",
    "        conn = sqlite3.connect(db_file)\n",
    "    except :\n",
    "        print(\"error\")\n",
    "    return conn"
   ]
  },
  {
   "cell_type": "code",
   "execution_count": 4,
   "metadata": {},
   "outputs": [],
   "source": [
    "def select_all_tables(conn):\n",
    "    \"\"\"\n",
    "    Query all tables in the DB\n",
    "    :param conn: the Connection object\n",
    "    :return:\n",
    "    \"\"\"\n",
    "    f = open(\"/home/dsi/avitalab/Article/aaSeqCDR3\", 'w')\n",
    "    writer = csv.writer(f)\n",
    "    \n",
    "    cur = conn.cursor()\n",
    "    #cur.execute(\"SELECT SampleName, COUNT(*) FROM CDR3_database GROUP BY SampleName HAVING Organism = 'human';\")\n",
    "    #cur.execute(\"SELECT PMID, COUNT(*) FROM CDR3_database GROUP BY Age;\")\n",
    "    #cur.execute(\"SELECT Age, COUNT(*) FROM CDR3_database GROUP BY Age;\")\n",
    "    #cur.execute(\"SELECT name FROM sqlite_master WHERE type='table';\")\n",
    "    #cur.execute(\"SELECT COUNT(*) FROM CDR3_database;\")\n",
    "    #cur.execute(\"PRAGMA table_info('CDR3_database');\")\n",
    "\n",
    "    # Extract inforamtion for each column in the table\n",
    "    for row in cur.execute(\"SELECT SampleName, COUNT(*) FROM CDR3_database GROUP BY SampleName HAVING Organism = 'human';\"):\n",
    "        writer.writerow(row)\n",
    "        \n",
    "    #cur.execute(\"SELECT COUNT(*) FROM CDR3_database WHERE Patient = 'D29_100';\")\n",
    "    #print(cur.fetchall())\n",
    "    f.close()\n",
    "    "
   ]
  },
  {
   "cell_type": "code",
   "execution_count": 5,
   "metadata": {},
   "outputs": [],
   "source": [
    "def main():\n",
    "    pathLocal = r\"/dsi/scratch/home/dsi/romiData/tcr_db\"\n",
    "    # create a database connection\n",
    "    conn = create_connection(pathLocal)\n",
    "    with conn:\n",
    "        select_all_tables(conn)"
   ]
  },
  {
   "cell_type": "code",
   "execution_count": 6,
   "metadata": {},
   "outputs": [],
   "source": [
    "# Press the green button in the gutter to run the script.\n",
    "if __name__ == '__main__':\n",
    "    main()"
   ]
  }
 ],
 "metadata": {
  "interpreter": {
   "hash": "660823ec88390e1986ae61f76b187758410cd70d79c22e414c434e606e3ff7d1"
  },
  "kernelspec": {
   "display_name": "Python 3.9.7 ('base')",
   "language": "python",
   "name": "python3"
  },
  "language_info": {
   "codemirror_mode": {
    "name": "ipython",
    "version": 3
   },
   "file_extension": ".py",
   "mimetype": "text/x-python",
   "name": "python",
   "nbconvert_exporter": "python",
   "pygments_lexer": "ipython3",
   "version": "3.9.7"
  },
  "orig_nbformat": 4
 },
 "nbformat": 4,
 "nbformat_minor": 2
}
